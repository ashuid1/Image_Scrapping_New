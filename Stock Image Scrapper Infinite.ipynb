{
 "cells": [
  {
   "cell_type": "code",
   "execution_count": 1,
   "id": "b4f279c9",
   "metadata": {},
   "outputs": [],
   "source": [
    "import time\n",
    "import requests\n",
    "import pandas as pd\n",
    "from tqdm import tqdm\n",
    "\n",
    "import chromedriver_binary\n",
    "from bs4 import BeautifulSoup\n",
    "from selenium import webdriver\n",
    "\n",
    "browser = webdriver.Chrome()\n",
    "\n",
    "browser.get('https://stockmages.netlify.app')"
   ]
  },
  {
   "cell_type": "markdown",
   "id": "487f08d3",
   "metadata": {},
   "source": [
    "### To Scrapp all the data from website scroll downuntil to reach last image of the website"
   ]
  },
  {
   "cell_type": "code",
   "execution_count": 2,
   "id": "96c9db2b",
   "metadata": {},
   "outputs": [
    {
     "name": "stderr",
     "output_type": "stream",
     "text": [
      "100%|██████████| 5000/5000 [09:59<00:00,  8.35it/s]\n"
     ]
    }
   ],
   "source": [
    "for i in tqdm(range(0,5000000,1000)):\n",
    "    \n",
    "    ### if we start tne new loop with range(5000000,New End,1000) and same below code than we get the more no. of images\n",
    "    \n",
    "    browser.execute_script(\"window.scrollTo(0,\"  + str(i) + \")\")    ### it will scroll the page automatically and working on pixel value.\n",
    "    time.sleep(.1)                                                  ### it will stop the scrolling for 0.1 nsec."
   ]
  },
  {
   "cell_type": "markdown",
   "id": "a81d010b",
   "metadata": {},
   "source": [
    "### Scrapping the page source"
   ]
  },
  {
   "cell_type": "code",
   "execution_count": 2,
   "id": "43a4a25c",
   "metadata": {},
   "outputs": [],
   "source": [
    "soup = BeautifulSoup(browser.page_source, 'html.parser')"
   ]
  },
  {
   "cell_type": "markdown",
   "id": "7fd37f4d",
   "metadata": {},
   "source": [
    "### Checking number of images that has to be scraped"
   ]
  },
  {
   "cell_type": "code",
   "execution_count": 3,
   "id": "ce709efc",
   "metadata": {},
   "outputs": [
    {
     "data": {
      "text/plain": [
       "48"
      ]
     },
     "execution_count": 3,
     "metadata": {},
     "output_type": "execute_result"
    }
   ],
   "source": [
    "len(soup.find_all('div', class_ = 'container'))"
   ]
  },
  {
   "cell_type": "markdown",
   "id": "0e52142f",
   "metadata": {},
   "source": [
    "### Scraping the Image Details"
   ]
  },
  {
   "cell_type": "code",
   "execution_count": 4,
   "id": "793c245d",
   "metadata": {},
   "outputs": [
    {
     "name": "stderr",
     "output_type": "stream",
     "text": [
      "100%|██████████| 48/48 [00:00<00:00, 3427.59it/s]\n"
     ]
    }
   ],
   "source": [
    "data = []\n",
    "\n",
    "for sp in tqdm(soup.find_all('div', class_ = 'container')):\n",
    "\n",
    "    img_link = sp.find('img').get('src')\n",
    "    tags     = sp.find('span', class_ = 'tag-color').text[7:].strip()\n",
    "    likes    = int(sp.find('div', class_ = 'likes-comments').find_all('span')[0].text.strip()[:-6])\n",
    "    comments = int(sp.find('div', class_ = 'likes-comments').find_all('span')[1].text.strip()[:-9])\n",
    "    \n",
    "    data.append([img_link, tags, likes, comments])"
   ]
  },
  {
   "cell_type": "markdown",
   "id": "8e8ebbbe",
   "metadata": {},
   "source": [
    "### Saving data in a DataFrame"
   ]
  },
  {
   "cell_type": "code",
   "execution_count": 5,
   "id": "a9875583",
   "metadata": {},
   "outputs": [
    {
     "data": {
      "text/html": [
       "<div>\n",
       "<style scoped>\n",
       "    .dataframe tbody tr th:only-of-type {\n",
       "        vertical-align: middle;\n",
       "    }\n",
       "\n",
       "    .dataframe tbody tr th {\n",
       "        vertical-align: top;\n",
       "    }\n",
       "\n",
       "    .dataframe thead th {\n",
       "        text-align: right;\n",
       "    }\n",
       "</style>\n",
       "<table border=\"1\" class=\"dataframe\">\n",
       "  <thead>\n",
       "    <tr style=\"text-align: right;\">\n",
       "      <th></th>\n",
       "      <th>img_link</th>\n",
       "      <th>tags</th>\n",
       "      <th>likes</th>\n",
       "      <th>comments</th>\n",
       "    </tr>\n",
       "  </thead>\n",
       "  <tbody>\n",
       "    <tr>\n",
       "      <th>0</th>\n",
       "      <td>https://cdn.pixabay.com/photo/2022/03/06/05/30...</td>\n",
       "      <td>Clouds, Sky, Atmosphere, Blue Sky</td>\n",
       "      <td>196</td>\n",
       "      <td>55</td>\n",
       "    </tr>\n",
       "    <tr>\n",
       "      <th>1</th>\n",
       "      <td>https://cdn.pixabay.com/photo/2022/04/07/11/45...</td>\n",
       "      <td>Bird, Ornithology, Hummingbird</td>\n",
       "      <td>76</td>\n",
       "      <td>20</td>\n",
       "    </tr>\n",
       "    <tr>\n",
       "      <th>2</th>\n",
       "      <td>https://cdn.pixabay.com/photo/2022/02/28/15/28...</td>\n",
       "      <td>Sea, Rainbow, Rainfall, Subtropical</td>\n",
       "      <td>282</td>\n",
       "      <td>106</td>\n",
       "    </tr>\n",
       "    <tr>\n",
       "      <th>3</th>\n",
       "      <td>https://cdn.pixabay.com/photo/2022/04/04/02/52...</td>\n",
       "      <td>Cherry Blossoms, Road, Japan, Sakura</td>\n",
       "      <td>42</td>\n",
       "      <td>11</td>\n",
       "    </tr>\n",
       "    <tr>\n",
       "      <th>4</th>\n",
       "      <td>https://cdn.pixabay.com/photo/2022/04/09/18/06...</td>\n",
       "      <td>Cape Marguerite, Flower, Plant</td>\n",
       "      <td>39</td>\n",
       "      <td>15</td>\n",
       "    </tr>\n",
       "  </tbody>\n",
       "</table>\n",
       "</div>"
      ],
      "text/plain": [
       "                                            img_link  \\\n",
       "0  https://cdn.pixabay.com/photo/2022/03/06/05/30...   \n",
       "1  https://cdn.pixabay.com/photo/2022/04/07/11/45...   \n",
       "2  https://cdn.pixabay.com/photo/2022/02/28/15/28...   \n",
       "3  https://cdn.pixabay.com/photo/2022/04/04/02/52...   \n",
       "4  https://cdn.pixabay.com/photo/2022/04/09/18/06...   \n",
       "\n",
       "                                   tags  likes  comments  \n",
       "0     Clouds, Sky, Atmosphere, Blue Sky    196        55  \n",
       "1        Bird, Ornithology, Hummingbird     76        20  \n",
       "2   Sea, Rainbow, Rainfall, Subtropical    282       106  \n",
       "3  Cherry Blossoms, Road, Japan, Sakura     42        11  \n",
       "4        Cape Marguerite, Flower, Plant     39        15  "
      ]
     },
     "execution_count": 5,
     "metadata": {},
     "output_type": "execute_result"
    }
   ],
   "source": [
    "df = pd.DataFrame(data, columns = ['img_link', 'tags', 'likes', 'comments'])\n",
    "\n",
    "df.head()"
   ]
  },
  {
   "cell_type": "markdown",
   "id": "dc688c10",
   "metadata": {},
   "source": [
    "### Checking Null Values"
   ]
  },
  {
   "cell_type": "code",
   "execution_count": 6,
   "id": "9768a0e4",
   "metadata": {},
   "outputs": [
    {
     "data": {
      "text/plain": [
       "img_link    0\n",
       "tags        0\n",
       "likes       0\n",
       "comments    0\n",
       "dtype: int64"
      ]
     },
     "execution_count": 6,
     "metadata": {},
     "output_type": "execute_result"
    }
   ],
   "source": [
    "df.isnull().sum()"
   ]
  },
  {
   "cell_type": "markdown",
   "id": "cdb3f877",
   "metadata": {},
   "source": [
    "### Checking Duplicate Values"
   ]
  },
  {
   "cell_type": "code",
   "execution_count": 7,
   "id": "75ffb143",
   "metadata": {},
   "outputs": [
    {
     "data": {
      "text/plain": [
       "count                                                    48\n",
       "unique                                                   48\n",
       "top       https://cdn.pixabay.com/photo/2022/03/06/05/30...\n",
       "freq                                                      1\n",
       "Name: img_link, dtype: object"
      ]
     },
     "execution_count": 7,
     "metadata": {},
     "output_type": "execute_result"
    }
   ],
   "source": [
    "df['img_link'].describe()"
   ]
  },
  {
   "cell_type": "markdown",
   "id": "7fc5d011",
   "metadata": {},
   "source": [
    "### Removing Duplicate Values"
   ]
  },
  {
   "cell_type": "code",
   "execution_count": 8,
   "id": "934d6fd8",
   "metadata": {},
   "outputs": [],
   "source": [
    "df = df.drop_duplicates()"
   ]
  },
  {
   "cell_type": "markdown",
   "id": "0401d4d1",
   "metadata": {},
   "source": [
    "###  Saving the DataFrame as CSV"
   ]
  },
  {
   "cell_type": "code",
   "execution_count": 9,
   "id": "5593dc25",
   "metadata": {},
   "outputs": [],
   "source": [
    "df.to_csv('images.csv', index = False)"
   ]
  },
  {
   "cell_type": "markdown",
   "id": "1dcb6360",
   "metadata": {},
   "source": [
    "### Downloading the images"
   ]
  },
  {
   "cell_type": "code",
   "execution_count": 10,
   "id": "6227ce87",
   "metadata": {},
   "outputs": [
    {
     "data": {
      "text/html": [
       "<div>\n",
       "<style scoped>\n",
       "    .dataframe tbody tr th:only-of-type {\n",
       "        vertical-align: middle;\n",
       "    }\n",
       "\n",
       "    .dataframe tbody tr th {\n",
       "        vertical-align: top;\n",
       "    }\n",
       "\n",
       "    .dataframe thead th {\n",
       "        text-align: right;\n",
       "    }\n",
       "</style>\n",
       "<table border=\"1\" class=\"dataframe\">\n",
       "  <thead>\n",
       "    <tr style=\"text-align: right;\">\n",
       "      <th></th>\n",
       "      <th>img_link</th>\n",
       "      <th>tags</th>\n",
       "      <th>likes</th>\n",
       "      <th>comments</th>\n",
       "    </tr>\n",
       "  </thead>\n",
       "  <tbody>\n",
       "    <tr>\n",
       "      <th>0</th>\n",
       "      <td>https://cdn.pixabay.com/photo/2022/03/06/05/30...</td>\n",
       "      <td>Clouds, Sky, Atmosphere, Blue Sky</td>\n",
       "      <td>196</td>\n",
       "      <td>55</td>\n",
       "    </tr>\n",
       "    <tr>\n",
       "      <th>1</th>\n",
       "      <td>https://cdn.pixabay.com/photo/2022/04/07/11/45...</td>\n",
       "      <td>Bird, Ornithology, Hummingbird</td>\n",
       "      <td>76</td>\n",
       "      <td>20</td>\n",
       "    </tr>\n",
       "    <tr>\n",
       "      <th>2</th>\n",
       "      <td>https://cdn.pixabay.com/photo/2022/02/28/15/28...</td>\n",
       "      <td>Sea, Rainbow, Rainfall, Subtropical</td>\n",
       "      <td>282</td>\n",
       "      <td>106</td>\n",
       "    </tr>\n",
       "    <tr>\n",
       "      <th>3</th>\n",
       "      <td>https://cdn.pixabay.com/photo/2022/04/04/02/52...</td>\n",
       "      <td>Cherry Blossoms, Road, Japan, Sakura</td>\n",
       "      <td>42</td>\n",
       "      <td>11</td>\n",
       "    </tr>\n",
       "    <tr>\n",
       "      <th>4</th>\n",
       "      <td>https://cdn.pixabay.com/photo/2022/04/09/18/06...</td>\n",
       "      <td>Cape Marguerite, Flower, Plant</td>\n",
       "      <td>39</td>\n",
       "      <td>15</td>\n",
       "    </tr>\n",
       "  </tbody>\n",
       "</table>\n",
       "</div>"
      ],
      "text/plain": [
       "                                            img_link  \\\n",
       "0  https://cdn.pixabay.com/photo/2022/03/06/05/30...   \n",
       "1  https://cdn.pixabay.com/photo/2022/04/07/11/45...   \n",
       "2  https://cdn.pixabay.com/photo/2022/02/28/15/28...   \n",
       "3  https://cdn.pixabay.com/photo/2022/04/04/02/52...   \n",
       "4  https://cdn.pixabay.com/photo/2022/04/09/18/06...   \n",
       "\n",
       "                                   tags  likes  comments  \n",
       "0     Clouds, Sky, Atmosphere, Blue Sky    196        55  \n",
       "1        Bird, Ornithology, Hummingbird     76        20  \n",
       "2   Sea, Rainbow, Rainfall, Subtropical    282       106  \n",
       "3  Cherry Blossoms, Road, Japan, Sakura     42        11  \n",
       "4        Cape Marguerite, Flower, Plant     39        15  "
      ]
     },
     "execution_count": 10,
     "metadata": {},
     "output_type": "execute_result"
    }
   ],
   "source": [
    "import requests\n",
    "import pandas as pd\n",
    "from tqdm import tqdm\n",
    "\n",
    "df = pd.read_csv('images.csv')\n",
    "df.head()"
   ]
  },
  {
   "cell_type": "markdown",
   "id": "e02566bb",
   "metadata": {},
   "source": [
    "### Difining Dynamic Name"
   ]
  },
  {
   "cell_type": "code",
   "execution_count": 11,
   "id": "c0708344",
   "metadata": {},
   "outputs": [
    {
     "name": "stdout",
     "output_type": "stream",
     "text": [
      "A00001\n",
      "A00002\n",
      "A00003\n",
      "A00004\n",
      "A00005\n",
      "A00006\n",
      "A00007\n",
      "A00008\n",
      "A00009\n",
      "A00010\n"
     ]
    }
   ],
   "source": [
    "ref = 100000\n",
    "for i in range(1,11):  \n",
    "    print('A' + str(i + ref)[1:])"
   ]
  },
  {
   "cell_type": "markdown",
   "id": "2d721e05",
   "metadata": {},
   "source": [
    "### Defining Image Downloader Function\n"
   ]
  },
  {
   "cell_type": "code",
   "execution_count": 12,
   "id": "db5d3caa",
   "metadata": {},
   "outputs": [],
   "source": [
    "def download(link, img_path ):\n",
    "\n",
    "    res = requests.get(link)         # Sending the Request\n",
    "    fd = open(img_path,'wb')         # Getting Image in WB Format\n",
    "    fd.write(res.content)            # Saving the Image\n",
    "    fd.close()"
   ]
  },
  {
   "cell_type": "markdown",
   "id": "0364a9c6",
   "metadata": {},
   "source": [
    "### Downloading all Images"
   ]
  },
  {
   "cell_type": "code",
   "execution_count": 13,
   "id": "290de4d6",
   "metadata": {},
   "outputs": [
    {
     "name": "stderr",
     "output_type": "stream",
     "text": [
      "100%|██████████| 48/48 [00:33<00:00,  1.42it/s]\n"
     ]
    }
   ],
   "source": [
    "paths   = []\n",
    "img_ids = []\n",
    "\n",
    "ref = 100000\n",
    "i   = 1\n",
    "\n",
    "for link in tqdm(df['img_link']):\n",
    "    \n",
    "    img_id = 'A' + str(i + ref)[1:]          # Creating Image ID\n",
    "    i += 1\n",
    "    \n",
    "    img_path = 'Imgs1/' + img_id + '.jpg'    # Creating Image Path and creating the folder Imgs1 to store the images\n",
    "    \n",
    "    download(link, img_path)                # Downloading the Image\n",
    "    \n",
    "    paths.append(img_path)\n",
    "    img_ids.append(img_id)"
   ]
  },
  {
   "cell_type": "markdown",
   "id": "fcacc75f",
   "metadata": {},
   "source": [
    "### Saving Ids and Paths in DataFrame"
   ]
  },
  {
   "cell_type": "code",
   "execution_count": 15,
   "id": "fc34330a",
   "metadata": {},
   "outputs": [
    {
     "data": {
      "text/html": [
       "<div>\n",
       "<style scoped>\n",
       "    .dataframe tbody tr th:only-of-type {\n",
       "        vertical-align: middle;\n",
       "    }\n",
       "\n",
       "    .dataframe tbody tr th {\n",
       "        vertical-align: top;\n",
       "    }\n",
       "\n",
       "    .dataframe thead th {\n",
       "        text-align: right;\n",
       "    }\n",
       "</style>\n",
       "<table border=\"1\" class=\"dataframe\">\n",
       "  <thead>\n",
       "    <tr style=\"text-align: right;\">\n",
       "      <th></th>\n",
       "      <th>img_link</th>\n",
       "      <th>tags</th>\n",
       "      <th>likes</th>\n",
       "      <th>comments</th>\n",
       "      <th>img_id</th>\n",
       "      <th>img_path</th>\n",
       "    </tr>\n",
       "  </thead>\n",
       "  <tbody>\n",
       "    <tr>\n",
       "      <th>0</th>\n",
       "      <td>https://cdn.pixabay.com/photo/2022/03/06/05/30...</td>\n",
       "      <td>Clouds, Sky, Atmosphere, Blue Sky</td>\n",
       "      <td>196</td>\n",
       "      <td>55</td>\n",
       "      <td>A00001</td>\n",
       "      <td>Imgs1/A00001.jpg</td>\n",
       "    </tr>\n",
       "    <tr>\n",
       "      <th>1</th>\n",
       "      <td>https://cdn.pixabay.com/photo/2022/04/07/11/45...</td>\n",
       "      <td>Bird, Ornithology, Hummingbird</td>\n",
       "      <td>76</td>\n",
       "      <td>20</td>\n",
       "      <td>A00002</td>\n",
       "      <td>Imgs1/A00002.jpg</td>\n",
       "    </tr>\n",
       "    <tr>\n",
       "      <th>2</th>\n",
       "      <td>https://cdn.pixabay.com/photo/2022/02/28/15/28...</td>\n",
       "      <td>Sea, Rainbow, Rainfall, Subtropical</td>\n",
       "      <td>282</td>\n",
       "      <td>106</td>\n",
       "      <td>A00003</td>\n",
       "      <td>Imgs1/A00003.jpg</td>\n",
       "    </tr>\n",
       "    <tr>\n",
       "      <th>3</th>\n",
       "      <td>https://cdn.pixabay.com/photo/2022/04/04/02/52...</td>\n",
       "      <td>Cherry Blossoms, Road, Japan, Sakura</td>\n",
       "      <td>42</td>\n",
       "      <td>11</td>\n",
       "      <td>A00004</td>\n",
       "      <td>Imgs1/A00004.jpg</td>\n",
       "    </tr>\n",
       "    <tr>\n",
       "      <th>4</th>\n",
       "      <td>https://cdn.pixabay.com/photo/2022/04/09/18/06...</td>\n",
       "      <td>Cape Marguerite, Flower, Plant</td>\n",
       "      <td>39</td>\n",
       "      <td>15</td>\n",
       "      <td>A00005</td>\n",
       "      <td>Imgs1/A00005.jpg</td>\n",
       "    </tr>\n",
       "  </tbody>\n",
       "</table>\n",
       "</div>"
      ],
      "text/plain": [
       "                                            img_link  \\\n",
       "0  https://cdn.pixabay.com/photo/2022/03/06/05/30...   \n",
       "1  https://cdn.pixabay.com/photo/2022/04/07/11/45...   \n",
       "2  https://cdn.pixabay.com/photo/2022/02/28/15/28...   \n",
       "3  https://cdn.pixabay.com/photo/2022/04/04/02/52...   \n",
       "4  https://cdn.pixabay.com/photo/2022/04/09/18/06...   \n",
       "\n",
       "                                   tags  likes  comments  img_id  \\\n",
       "0     Clouds, Sky, Atmosphere, Blue Sky    196        55  A00001   \n",
       "1        Bird, Ornithology, Hummingbird     76        20  A00002   \n",
       "2   Sea, Rainbow, Rainfall, Subtropical    282       106  A00003   \n",
       "3  Cherry Blossoms, Road, Japan, Sakura     42        11  A00004   \n",
       "4        Cape Marguerite, Flower, Plant     39        15  A00005   \n",
       "\n",
       "           img_path  \n",
       "0  Imgs1/A00001.jpg  \n",
       "1  Imgs1/A00002.jpg  \n",
       "2  Imgs1/A00003.jpg  \n",
       "3  Imgs1/A00004.jpg  \n",
       "4  Imgs1/A00005.jpg  "
      ]
     },
     "execution_count": 15,
     "metadata": {},
     "output_type": "execute_result"
    }
   ],
   "source": [
    "df['img_id']   = img_ids\n",
    "df['img_path'] = paths\n",
    "\n",
    "df.head()"
   ]
  },
  {
   "cell_type": "markdown",
   "id": "feef81a9",
   "metadata": {},
   "source": [
    "###  Saving Final Dataset"
   ]
  },
  {
   "cell_type": "code",
   "execution_count": 16,
   "id": "ed3259a7",
   "metadata": {},
   "outputs": [],
   "source": [
    "df.to_csv('Final_imgs.csv', index = False)"
   ]
  },
  {
   "cell_type": "code",
   "execution_count": null,
   "id": "f78d9de9",
   "metadata": {},
   "outputs": [],
   "source": []
  }
 ],
 "metadata": {
  "kernelspec": {
   "display_name": "Python 3 (ipykernel)",
   "language": "python",
   "name": "python3"
  },
  "language_info": {
   "codemirror_mode": {
    "name": "ipython",
    "version": 3
   },
   "file_extension": ".py",
   "mimetype": "text/x-python",
   "name": "python",
   "nbconvert_exporter": "python",
   "pygments_lexer": "ipython3",
   "version": "3.11.5"
  }
 },
 "nbformat": 4,
 "nbformat_minor": 5
}
